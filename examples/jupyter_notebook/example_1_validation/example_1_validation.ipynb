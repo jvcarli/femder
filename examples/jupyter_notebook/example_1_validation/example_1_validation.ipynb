{
 "cells": [
  {
   "cell_type": "code",
   "execution_count": null,
   "id": "1c52205b-c839-4ed8-ad5e-212b7b05c27e",
   "metadata": {},
   "outputs": [],
   "source": [
    "import os\n",
    "\n",
    "import femder as fd\n",
    "import numpy as np\n",
    "import plotly.offline as pyo"
   ]
  },
  {
   "cell_type": "code",
   "execution_count": null,
   "id": "be48d960-14f6-4ae5-ac28-90233ad61ff4",
   "metadata": {},
   "outputs": [],
   "source": [
    "pyo.init_notebook_mode()"
   ]
  },
  {
   "cell_type": "code",
   "execution_count": null,
   "id": "1191b659-5009-4959-b463-9a1fa68dc868",
   "metadata": {},
   "outputs": [],
   "source": [
    "path_to_geo = os.path.join(\".\", \"assets\", \"acousticave.geo\")\n",
    "\n",
    "AP = fd.AirProperties(c0=343)\n",
    "AC = fd.AlgControls(AP, 1, 200, 0.5)\n",
    "\n",
    "S = fd.Source(\"spherical\", coord=[[1.547, 0.23, 0.35]], q=[0.001])\n",
    "R = fd.Receiver(coord=[-2.025, 2.389, 2.08])\n",
    "\n",
    "BC = fd.BC(AC, AP)\n",
    "BC.normalized_admittance(2, 0.012)\n",
    "grid = fd.GridImport3D(AP, path_to_geo, S, R, fmax=200, num_freq=12, scale=1, order=1)\n",
    "obj = fd.FEM3D(grid, S, R, AP, AC, BC)"
   ]
  },
  {
   "cell_type": "code",
   "execution_count": null,
   "id": "cf4e66c5-c5c4-4160-97c0-c80dbf6f63ae",
   "metadata": {},
   "outputs": [],
   "source": [
    "obj.plot_problem()"
   ]
  },
  {
   "cell_type": "code",
   "execution_count": null,
   "id": "9a4f4428-1044-4f80-83e3-161518f4363c",
   "metadata": {},
   "outputs": [],
   "source": [
    "grid = fd.GridImport3D(AP, path_to_geo, S, R, fmax=300, num_freq=6, scale=1, order=1)\n",
    "obj = fd.FEM3D(grid, S, R, AP, AC, BC)\n",
    "obj.compute()"
   ]
  },
  {
   "cell_type": "code",
   "execution_count": null,
   "id": "b2f73448-83ea-4925-bc95-99a1eaeed4db",
   "metadata": {},
   "outputs": [],
   "source": [
    "obj.evaluate(R)"
   ]
  },
  {
   "cell_type": "code",
   "execution_count": null,
   "id": "549819db-2562-4a8e-abe8-ddaac3951439",
   "metadata": {},
   "outputs": [],
   "source": [
    "obj.plot_freq()"
   ]
  },
  {
   "cell_type": "code",
   "execution_count": null,
   "id": "9014c26c-fefd-492c-a2b1-c9dbf5295fe7",
   "metadata": {},
   "outputs": [],
   "source": [
    "obj.pressure_field(\n",
    "    frequencies=65,\n",
    "    saveFig=False,\n",
    "    axis=[\"xy\", \"yz\"],\n",
    "    camera_angles=[\"diagonal_front\"],\n",
    "    extension=\"pdf\",\n",
    ")"
   ]
  }
 ],
 "metadata": {
  "kernelspec": {
   "display_name": "Python 3 (ipykernel)",
   "language": "python",
   "name": "python3"
  },
  "language_info": {
   "codemirror_mode": {
    "name": "ipython",
    "version": 3
   },
   "file_extension": ".py",
   "mimetype": "text/x-python",
   "name": "python",
   "nbconvert_exporter": "python",
   "pygments_lexer": "ipython3",
   "version": "3.9.19"
  }
 },
 "nbformat": 4,
 "nbformat_minor": 5
}
